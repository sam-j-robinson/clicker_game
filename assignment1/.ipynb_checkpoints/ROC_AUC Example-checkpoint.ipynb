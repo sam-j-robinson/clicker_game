{
 "cells": [
  {
   "cell_type": "markdown",
   "metadata": {},
   "source": []
  },
  {
   "cell_type": "markdown",
   "metadata": {},
   "source": [
    "# Example - AUC"
   ]
  },
  {
   "cell_type": "markdown",
   "metadata": {},
   "source": [
    "## Example 1"
   ]
  },
  {
   "cell_type": "markdown",
   "metadata": {},
   "source": [
    "Credits: https://www.r-bloggers.com/a-small-introduction-to-the-rocr-package/"
   ]
  },
  {
   "cell_type": "code",
   "execution_count": 14,
   "metadata": {
    "collapsed": false
   },
   "outputs": [
    {
     "data": {
      "text/html": [
       "<table>\n",
       "<tbody>\n",
       "\t<tr><td>0.6125478</td><td>1        </td></tr>\n",
       "\t<tr><td>0.3642710</td><td>1        </td></tr>\n",
       "\t<tr><td>0.4321361</td><td>0        </td></tr>\n",
       "\t<tr><td>0.1402911</td><td>0        </td></tr>\n",
       "\t<tr><td>0.3848959</td><td>0        </td></tr>\n",
       "</tbody>\n",
       "</table>\n"
      ],
      "text/latex": [
       "\\begin{tabular}{ll}\n",
       "\t 0.6125478 & 1        \\\\\n",
       "\t 0.3642710 & 1        \\\\\n",
       "\t 0.4321361 & 0        \\\\\n",
       "\t 0.1402911 & 0        \\\\\n",
       "\t 0.3848959 & 0        \\\\\n",
       "\\end{tabular}\n"
      ],
      "text/markdown": [
       "\n",
       "| 0.6125478 | 1         | \n",
       "| 0.3642710 | 1         | \n",
       "| 0.4321361 | 0         | \n",
       "| 0.1402911 | 0         | \n",
       "| 0.3848959 | 0         | \n",
       "\n",
       "\n"
      ],
      "text/plain": [
       "     [,1]      [,2]\n",
       "[1,] 0.6125478 1   \n",
       "[2,] 0.3642710 1   \n",
       "[3,] 0.4321361 0   \n",
       "[4,] 0.1402911 0   \n",
       "[5,] 0.3848959 0   "
      ]
     },
     "metadata": {},
     "output_type": "display_data"
    }
   ],
   "source": [
    "library(ROCR)\n",
    "data(ROCR.simple)\n",
    "head(cbind(ROCR.simple$predictions, ROCR.simple$labels), 5)\n"
   ]
  },
  {
   "cell_type": "code",
   "execution_count": 19,
   "metadata": {
    "collapsed": false
   },
   "outputs": [
    {
     "data": {
      "text/html": [
       "'prediction'"
      ],
      "text/latex": [
       "'prediction'"
      ],
      "text/markdown": [
       "'prediction'"
      ],
      "text/plain": [
       "[1] \"prediction\"\n",
       "attr(,\"package\")\n",
       "[1] \"ROCR\""
      ]
     },
     "metadata": {},
     "output_type": "display_data"
    },
    {
     "data": {
      "text/html": [
       "<ol class=list-inline>\n",
       "\t<li>'predictions'</li>\n",
       "\t<li>'labels'</li>\n",
       "\t<li>'cutoffs'</li>\n",
       "\t<li>'fp'</li>\n",
       "\t<li>'tp'</li>\n",
       "\t<li>'tn'</li>\n",
       "\t<li>'fn'</li>\n",
       "\t<li>'n.pos'</li>\n",
       "\t<li>'n.neg'</li>\n",
       "\t<li>'n.pos.pred'</li>\n",
       "\t<li>'n.neg.pred'</li>\n",
       "</ol>\n"
      ],
      "text/latex": [
       "\\begin{enumerate*}\n",
       "\\item 'predictions'\n",
       "\\item 'labels'\n",
       "\\item 'cutoffs'\n",
       "\\item 'fp'\n",
       "\\item 'tp'\n",
       "\\item 'tn'\n",
       "\\item 'fn'\n",
       "\\item 'n.pos'\n",
       "\\item 'n.neg'\n",
       "\\item 'n.pos.pred'\n",
       "\\item 'n.neg.pred'\n",
       "\\end{enumerate*}\n"
      ],
      "text/markdown": [
       "1. 'predictions'\n",
       "2. 'labels'\n",
       "3. 'cutoffs'\n",
       "4. 'fp'\n",
       "5. 'tp'\n",
       "6. 'tn'\n",
       "7. 'fn'\n",
       "8. 'n.pos'\n",
       "9. 'n.neg'\n",
       "10. 'n.pos.pred'\n",
       "11. 'n.neg.pred'\n",
       "\n",
       "\n"
      ],
      "text/plain": [
       " [1] \"predictions\" \"labels\"      \"cutoffs\"     \"fp\"          \"tp\"         \n",
       " [6] \"tn\"          \"fn\"          \"n.pos\"       \"n.neg\"       \"n.pos.pred\" \n",
       "[11] \"n.neg.pred\" "
      ]
     },
     "metadata": {},
     "output_type": "display_data"
    }
   ],
   "source": [
    "pred <- prediction(ROCR.simple$predictions,ROCR.simple$labels)\n",
    "\n",
    "class(pred)\n",
    "slotNames(pred)\n"
   ]
  },
  {
   "cell_type": "code",
   "execution_count": 20,
   "metadata": {
    "collapsed": false
   },
   "outputs": [
    {
     "data": {
      "text/html": [
       "<dl class=dl-horizontal>\n",
       "\t<dt>predictions</dt>\n",
       "\t\t<dd>1</dd>\n",
       "\t<dt>labels</dt>\n",
       "\t\t<dd>1</dd>\n",
       "\t<dt>cutoffs</dt>\n",
       "\t\t<dd>1</dd>\n",
       "\t<dt>fp</dt>\n",
       "\t\t<dd>1</dd>\n",
       "\t<dt>tp</dt>\n",
       "\t\t<dd>1</dd>\n",
       "\t<dt>tn</dt>\n",
       "\t\t<dd>1</dd>\n",
       "\t<dt>fn</dt>\n",
       "\t\t<dd>1</dd>\n",
       "\t<dt>n.pos</dt>\n",
       "\t\t<dd>1</dd>\n",
       "\t<dt>n.neg</dt>\n",
       "\t\t<dd>1</dd>\n",
       "\t<dt>n.pos.pred</dt>\n",
       "\t\t<dd>1</dd>\n",
       "\t<dt>n.neg.pred</dt>\n",
       "\t\t<dd>1</dd>\n",
       "</dl>\n"
      ],
      "text/latex": [
       "\\begin{description*}\n",
       "\\item[predictions] 1\n",
       "\\item[labels] 1\n",
       "\\item[cutoffs] 1\n",
       "\\item[fp] 1\n",
       "\\item[tp] 1\n",
       "\\item[tn] 1\n",
       "\\item[fn] 1\n",
       "\\item[n.pos] 1\n",
       "\\item[n.neg] 1\n",
       "\\item[n.pos.pred] 1\n",
       "\\item[n.neg.pred] 1\n",
       "\\end{description*}\n"
      ],
      "text/markdown": [
       "predictions\n",
       ":   1labels\n",
       ":   1cutoffs\n",
       ":   1fp\n",
       ":   1tp\n",
       ":   1tn\n",
       ":   1fn\n",
       ":   1n.pos\n",
       ":   1n.neg\n",
       ":   1n.pos.pred\n",
       ":   1n.neg.pred\n",
       ":   1\n",
       "\n"
      ],
      "text/plain": [
       "predictions      labels     cutoffs          fp          tp          tn \n",
       "          1           1           1           1           1           1 \n",
       "         fn       n.pos       n.neg  n.pos.pred  n.neg.pred \n",
       "          1           1           1           1           1 "
      ]
     },
     "metadata": {},
     "output_type": "display_data"
    }
   ],
   "source": [
    "sn = slotNames(pred)\n",
    "sapply(sn, function(x) length(slot(pred, x)))\n"
   ]
  },
  {
   "cell_type": "code",
   "execution_count": 21,
   "metadata": {
    "collapsed": false
   },
   "outputs": [
    {
     "data": {
      "text/html": [
       "<dl class=dl-horizontal>\n",
       "\t<dt>predictions</dt>\n",
       "\t\t<dd>'list'</dd>\n",
       "\t<dt>labels</dt>\n",
       "\t\t<dd>'list'</dd>\n",
       "\t<dt>cutoffs</dt>\n",
       "\t\t<dd>'list'</dd>\n",
       "\t<dt>fp</dt>\n",
       "\t\t<dd>'list'</dd>\n",
       "\t<dt>tp</dt>\n",
       "\t\t<dd>'list'</dd>\n",
       "\t<dt>tn</dt>\n",
       "\t\t<dd>'list'</dd>\n",
       "\t<dt>fn</dt>\n",
       "\t\t<dd>'list'</dd>\n",
       "\t<dt>n.pos</dt>\n",
       "\t\t<dd>'list'</dd>\n",
       "\t<dt>n.neg</dt>\n",
       "\t\t<dd>'list'</dd>\n",
       "\t<dt>n.pos.pred</dt>\n",
       "\t\t<dd>'list'</dd>\n",
       "\t<dt>n.neg.pred</dt>\n",
       "\t\t<dd>'list'</dd>\n",
       "</dl>\n"
      ],
      "text/latex": [
       "\\begin{description*}\n",
       "\\item[predictions] 'list'\n",
       "\\item[labels] 'list'\n",
       "\\item[cutoffs] 'list'\n",
       "\\item[fp] 'list'\n",
       "\\item[tp] 'list'\n",
       "\\item[tn] 'list'\n",
       "\\item[fn] 'list'\n",
       "\\item[n.pos] 'list'\n",
       "\\item[n.neg] 'list'\n",
       "\\item[n.pos.pred] 'list'\n",
       "\\item[n.neg.pred] 'list'\n",
       "\\end{description*}\n"
      ],
      "text/markdown": [
       "predictions\n",
       ":   'list'labels\n",
       ":   'list'cutoffs\n",
       ":   'list'fp\n",
       ":   'list'tp\n",
       ":   'list'tn\n",
       ":   'list'fn\n",
       ":   'list'n.pos\n",
       ":   'list'n.neg\n",
       ":   'list'n.pos.pred\n",
       ":   'list'n.neg.pred\n",
       ":   'list'\n",
       "\n"
      ],
      "text/plain": [
       "predictions      labels     cutoffs          fp          tp          tn \n",
       "     \"list\"      \"list\"      \"list\"      \"list\"      \"list\"      \"list\" \n",
       "         fn       n.pos       n.neg  n.pos.pred  n.neg.pred \n",
       "     \"list\"      \"list\"      \"list\"      \"list\"      \"list\" "
      ]
     },
     "metadata": {},
     "output_type": "display_data"
    }
   ],
   "source": [
    "sapply(sn, function(x) class(slot(pred, x)))\n"
   ]
  },
  {
   "cell_type": "code",
   "execution_count": 22,
   "metadata": {
    "collapsed": false
   },
   "outputs": [
    {
     "data": {
      "text/html": [
       "<dl class=dl-horizontal>\n",
       "\t<dt>predictions</dt>\n",
       "\t\t<dd>10</dd>\n",
       "\t<dt>labels</dt>\n",
       "\t\t<dd>10</dd>\n",
       "\t<dt>cutoffs</dt>\n",
       "\t\t<dd>10</dd>\n",
       "\t<dt>fp</dt>\n",
       "\t\t<dd>10</dd>\n",
       "\t<dt>tp</dt>\n",
       "\t\t<dd>10</dd>\n",
       "\t<dt>tn</dt>\n",
       "\t\t<dd>10</dd>\n",
       "\t<dt>fn</dt>\n",
       "\t\t<dd>10</dd>\n",
       "\t<dt>n.pos</dt>\n",
       "\t\t<dd>10</dd>\n",
       "\t<dt>n.neg</dt>\n",
       "\t\t<dd>10</dd>\n",
       "\t<dt>n.pos.pred</dt>\n",
       "\t\t<dd>10</dd>\n",
       "\t<dt>n.neg.pred</dt>\n",
       "\t\t<dd>10</dd>\n",
       "</dl>\n"
      ],
      "text/latex": [
       "\\begin{description*}\n",
       "\\item[predictions] 10\n",
       "\\item[labels] 10\n",
       "\\item[cutoffs] 10\n",
       "\\item[fp] 10\n",
       "\\item[tp] 10\n",
       "\\item[tn] 10\n",
       "\\item[fn] 10\n",
       "\\item[n.pos] 10\n",
       "\\item[n.neg] 10\n",
       "\\item[n.pos.pred] 10\n",
       "\\item[n.neg.pred] 10\n",
       "\\end{description*}\n"
      ],
      "text/markdown": [
       "predictions\n",
       ":   10labels\n",
       ":   10cutoffs\n",
       ":   10fp\n",
       ":   10tp\n",
       ":   10tn\n",
       ":   10fn\n",
       ":   10n.pos\n",
       ":   10n.neg\n",
       ":   10n.pos.pred\n",
       ":   10n.neg.pred\n",
       ":   10\n",
       "\n"
      ],
      "text/plain": [
       "predictions      labels     cutoffs          fp          tp          tn \n",
       "         10          10          10          10          10          10 \n",
       "         fn       n.pos       n.neg  n.pos.pred  n.neg.pred \n",
       "         10          10          10          10          10 "
      ]
     },
     "metadata": {},
     "output_type": "display_data"
    }
   ],
   "source": [
    "data(ROCR.hiv)\n",
    "manypred = prediction(ROCR.hiv$hiv.nn$predictions, ROCR.hiv$hiv.nn$labels)\n",
    "sapply(sn, function(x) length(slot(manypred, x)))\n"
   ]
  },
  {
   "cell_type": "code",
   "execution_count": 23,
   "metadata": {
    "collapsed": false
   },
   "outputs": [
    {
     "data": {
      "text/html": [
       "<dl class=dl-horizontal>\n",
       "\t<dt>predictions</dt>\n",
       "\t\t<dd>'list'</dd>\n",
       "\t<dt>labels</dt>\n",
       "\t\t<dd>'list'</dd>\n",
       "\t<dt>cutoffs</dt>\n",
       "\t\t<dd>'list'</dd>\n",
       "\t<dt>fp</dt>\n",
       "\t\t<dd>'list'</dd>\n",
       "\t<dt>tp</dt>\n",
       "\t\t<dd>'list'</dd>\n",
       "\t<dt>tn</dt>\n",
       "\t\t<dd>'list'</dd>\n",
       "\t<dt>fn</dt>\n",
       "\t\t<dd>'list'</dd>\n",
       "\t<dt>n.pos</dt>\n",
       "\t\t<dd>'list'</dd>\n",
       "\t<dt>n.neg</dt>\n",
       "\t\t<dd>'list'</dd>\n",
       "\t<dt>n.pos.pred</dt>\n",
       "\t\t<dd>'list'</dd>\n",
       "\t<dt>n.neg.pred</dt>\n",
       "\t\t<dd>'list'</dd>\n",
       "</dl>\n"
      ],
      "text/latex": [
       "\\begin{description*}\n",
       "\\item[predictions] 'list'\n",
       "\\item[labels] 'list'\n",
       "\\item[cutoffs] 'list'\n",
       "\\item[fp] 'list'\n",
       "\\item[tp] 'list'\n",
       "\\item[tn] 'list'\n",
       "\\item[fn] 'list'\n",
       "\\item[n.pos] 'list'\n",
       "\\item[n.neg] 'list'\n",
       "\\item[n.pos.pred] 'list'\n",
       "\\item[n.neg.pred] 'list'\n",
       "\\end{description*}\n"
      ],
      "text/markdown": [
       "predictions\n",
       ":   'list'labels\n",
       ":   'list'cutoffs\n",
       ":   'list'fp\n",
       ":   'list'tp\n",
       ":   'list'tn\n",
       ":   'list'fn\n",
       ":   'list'n.pos\n",
       ":   'list'n.neg\n",
       ":   'list'n.pos.pred\n",
       ":   'list'n.neg.pred\n",
       ":   'list'\n",
       "\n"
      ],
      "text/plain": [
       "predictions      labels     cutoffs          fp          tp          tn \n",
       "     \"list\"      \"list\"      \"list\"      \"list\"      \"list\"      \"list\" \n",
       "         fn       n.pos       n.neg  n.pos.pred  n.neg.pred \n",
       "     \"list\"      \"list\"      \"list\"      \"list\"      \"list\" "
      ]
     },
     "metadata": {},
     "output_type": "display_data"
    }
   ],
   "source": [
    "sapply(sn, function(x) class(slot(manypred, x)))\n"
   ]
  },
  {
   "cell_type": "code",
   "execution_count": 27,
   "metadata": {
    "collapsed": false
   },
   "outputs": [
    {
     "data": {
      "image/png": "[encoded data removed]",
      "text/plain": [
       "plot without title"
      ]
     },
     "metadata": {},
     "output_type": "display_data"
    }
   ],
   "source": [
    "roc.perf = performance(pred, measure = \"tpr\", x.measure = \"fpr\")\n",
    "plot(roc.perf)\n",
    "abline(a=0, b= 1)\n"
   ]
  },
  {
   "cell_type": "markdown",
   "metadata": {},
   "source": [
    "## Example 2"
   ]
  },
  {
   "cell_type": "markdown",
   "metadata": {},
   "source": [
    "Credits: http://blog.yhat.com/posts/roc-curves.html"
   ]
  },
  {
   "cell_type": "markdown",
   "metadata": {},
   "source": [
    "## Build a GLM model"
   ]
  },
  {
   "cell_type": "code",
   "execution_count": 7,
   "metadata": {
    "collapsed": false
   },
   "outputs": [
    {
     "data": {
      "text/plain": [
       "\n",
       "Call:\n",
       "glm(formula = is_expensive ~ carat + cut + clarity, data = train)\n",
       "\n",
       "Deviance Residuals: \n",
       "     Min        1Q    Median        3Q       Max  \n",
       "-2.74788  -0.20185  -0.09189   0.29121   0.81533  \n",
       "\n",
       "Coefficients:\n",
       "             Estimate Std. Error t value Pr(>|t|)    \n",
       "(Intercept) -0.187707   0.004060 -46.229  < 2e-16 ***\n",
       "carat        0.828749   0.003551 233.400  < 2e-16 ***\n",
       "cut.L       -0.003426   0.006268  -0.547    0.585    \n",
       "cut.Q       -0.031975   0.005526  -5.787 7.24e-09 ***\n",
       "cut.C        0.025798   0.004819   5.353 8.68e-08 ***\n",
       "cut^4        0.005951   0.003881   1.533    0.125    \n",
       "clarity.L    0.116474   0.009525  12.229  < 2e-16 ***\n",
       "clarity.Q   -0.134829   0.008945 -15.074  < 2e-16 ***\n",
       "clarity.C    0.086828   0.007669  11.322  < 2e-16 ***\n",
       "clarity^4   -0.054470   0.006132  -8.883  < 2e-16 ***\n",
       "clarity^5    0.038885   0.005010   7.761 8.59e-15 ***\n",
       "clarity^6    0.003200   0.004370   0.732    0.464    \n",
       "clarity^7   -0.002328   0.003853  -0.604    0.546    \n",
       "---\n",
       "Signif. codes:  0 '***' 0.001 '**' 0.01 '*' 0.05 '.' 0.1 ' ' 1\n",
       "\n",
       "(Dispersion parameter for gaussian family taken to be 0.09717744)\n",
       "\n",
       "    Null deviance: 10057.9  on 40231  degrees of freedom\n",
       "Residual deviance:  3908.4  on 40219  degrees of freedom\n",
       "AIC: 20399\n",
       "\n",
       "Number of Fisher Scoring iterations: 2\n"
      ]
     },
     "metadata": {},
     "output_type": "display_data"
    }
   ],
   "source": [
    "library(ggplot2)\n",
    "\n",
    "diamonds$is_expensive <- diamonds$price > 2400\n",
    "is_test <- runif(nrow(diamonds)) > 0.75\n",
    "train <- diamonds[is_test==FALSE,]\n",
    "test <- diamonds[is_test==TRUE,]\n",
    "\n",
    "summary(fit <- glm(is_expensive ~ carat + cut + clarity, data=train))"
   ]
  },
  {
   "cell_type": "markdown",
   "metadata": {},
   "source": [
    "## Plot ROC Curve"
   ]
  },
  {
   "cell_type": "code",
   "execution_count": 9,
   "metadata": {
    "collapsed": false
   },
   "outputs": [],
   "source": [
    "library(ROCR)\n",
    "\n",
    "prob <- predict(fit, newdata=test, type=\"response\")\n",
    "pred <- prediction(prob, test$is_expensive)\n",
    "perf <- performance(pred, measure = \"tpr\", x.measure = \"fpr\")\n"
   ]
  },
  {
   "cell_type": "code",
   "execution_count": 11,
   "metadata": {
    "collapsed": false
   },
   "outputs": [
    {
     "data": {},
     "metadata": {},
     "output_type": "display_data"
    },
    {
     "data": {
      "image/png": "[encoded data removed]",
      "text/plain": [
       "plot without title"
      ]
     },
     "metadata": {},
     "output_type": "display_data"
    }
   ],
   "source": [
    "auc <- performance(pred, measure = \"auc\")\n",
    "auc <- auc@y.values[[1]]\n",
    "\n",
    "roc.data <- data.frame(fpr=unlist(perf@x.values),\n",
    "                       tpr=unlist(perf@y.values),\n",
    "                       model=\"GLM\")\n",
    "ggplot(roc.data, aes(x=fpr, ymin=0, ymax=tpr)) +\n",
    "    geom_ribbon(alpha=0.2) +\n",
    "    geom_line(aes(y=tpr)) +\n",
    "    ggtitle(paste0(\"ROC Curve w/ AUC=\", auc))"
   ]
  },
  {
   "cell_type": "code",
   "execution_count": null,
   "metadata": {
    "collapsed": true
   },
   "outputs": [],
   "source": []
  }
 ],
 "metadata": {
  "kernelspec": {
   "display_name": "R",
   "language": "R",
   "name": "ir"
  },
  "language_info": {
   "codemirror_mode": "r",
   "file_extension": ".r",
   "mimetype": "text/x-r-source",
   "name": "R",
   "pygments_lexer": "r",
   "version": "3.3.0"
  }
 },
 "nbformat": 4,
 "nbformat_minor": 2
}
